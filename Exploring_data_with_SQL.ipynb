{
 "cells": [
  {
   "attachments": {},
   "cell_type": "markdown",
   "id": "69989dd1",
   "metadata": {},
   "source": [
    "## The dataset\n",
    "\n",
    "We will be using the NIDS Coronavirus Rapid Mobile (CRAM) Survey Wave 5 2021 dataset. It is comprised of three tables that include 62 features:\n",
    "\n",
    "`Personal_2021`\n",
    "This table contains personal information such as, gender, interview month, date of birth, and marital status. \n",
    "\n",
    "`Household_2021`\n",
    "This table provides information on households such as the household income, the province and geographical type of the household, and if the household has access to water and electricity.\n",
    "\n",
    "`Employment_2021`\n",
    "This table provides data on individuals, such as whether they are being paid a wage or salary, how many days they have worked in the past month, and if they have not worked, the reason for absence.\n",
    "\n",
    "*Note that in the 2021 data, only one person was interviewed per household. Therefore, the `pid` in `Personal_2021` is the same as the `pid` in `Household_2021` for each individual. This means there is no separate household ID (`hhid`) in the 2021 dataset—only `pid` is used to represent both personal and household data.*\n",
    "\n",
    "Below is an entity relationship diagram (ERD) of the `NIDS-CRAM Wave 5 2021` database:\n",
    "\n",
    "#  \n",
    "\n",
    "<div align=\"center\" style=\" font-size: 80%; text-align: center; margin: 0 auto\">\n",
    "<img src=\"https://raw.githubusercontent.com/Explore-AI/Pictures/master/2021-database-erd.png\"  style=\"width:40%\";/>\n",
    "</div>\n",
    "\n",
    "This ERD illustrates the relationships between the tables in the database."
   ]
  },
  {
   "cell_type": "markdown",
   "id": "b107f1df",
   "metadata": {},
   "source": [
    "## Loading the database\n",
    "\n",
    "Before we begin, we need to prepare our SQL environment.\n",
    "\n",
    "We can do this by loading the magic command `%load_ext sql`."
   ]
  },
  {
   "cell_type": "code",
   "execution_count": 6,
   "id": "908544b1",
   "metadata": {},
   "outputs": [
    {
     "name": "stdout",
     "output_type": "stream",
     "text": [
      "The sql extension is already loaded. To reload it, use:\n",
      "  %reload_ext sql\n"
     ]
    }
   ],
   "source": [
    "# Load and activate the SQL extension to allow us to execute SQL in a Jupyter notebook. \n",
    "# If you get an error here, make sure that mysql and pymysql are installed correctly. \n",
    "\n",
    "%load_ext sql"
   ]
  },
  {
   "cell_type": "code",
   "execution_count": 8,
   "id": "b54dcfe5",
   "metadata": {},
   "outputs": [],
   "source": [
    "%sql sqlite:///NiDS_CRAM_2021.db"
   ]
  },
  {
   "attachments": {},
   "cell_type": "markdown",
   "id": "c77e8890",
   "metadata": {},
   "source": [
    "We can also load our database using a sqlite3 connection for those commands that are not supported by IPython."
   ]
  },
  {
   "cell_type": "code",
   "execution_count": 16,
   "id": "f6e943c4-0910-440d-97b3-1aba2ce6af8c",
   "metadata": {},
   "outputs": [],
   "source": [
    "import sqlite3\n",
    "# Connect to the NiDS_CRAM database\n",
    "conn = sqlite3.connect('NiDS_CRAM_2021.db')"
   ]
  },
  {
   "cell_type": "code",
   "execution_count": 12,
   "id": "963e64c4",
   "metadata": {},
   "outputs": [],
   "source": [
    "cursor = conn.cursor()"
   ]
  },
  {
   "cell_type": "markdown",
   "id": "588b44ad",
   "metadata": {},
   "source": [
    "\n",
    "\n",
    "- Retrieve all individuals who belong to households with more than 20 residents.\n",
    "\n"
   ]
  },
  {
   "cell_type": "code",
   "execution_count": 13,
   "id": "52c66728",
   "metadata": {},
   "outputs": [
    {
     "name": "stdout",
     "output_type": "stream",
     "text": [
      " * sqlite:///NiDS_CRAM_2021.db\n",
      "Done.\n"
     ]
    },
    {
     "data": {
      "text/html": [
       "<table>\n",
       "    <thead>\n",
       "        <tr>\n",
       "            <th>pid</th>\n",
       "            <th>prov</th>\n",
       "            <th>area</th>\n",
       "            <th>area_des</th>\n",
       "            <th>dwltyp</th>\n",
       "            <th>watsrc</th>\n",
       "            <th>enrgelec</th>\n",
       "            <th>nopres</th>\n",
       "            <th>nou7res</th>\n",
       "            <th>no7to17res</th>\n",
       "            <th>nocld</th>\n",
       "            <th>no60res</th>\n",
       "            <th>hhincchld</th>\n",
       "            <th>incchld</th>\n",
       "            <th>hhincgovpen</th>\n",
       "            <th>incgovpen</th>\n",
       "            <th>hhinccv</th>\n",
       "            <th>incgov</th>\n",
       "            <th>hhinc</th>\n",
       "            <th>hhinc_brac</th>\n",
       "            <th>hhincmain</th>\n",
       "            <th>hhincsrc1</th>\n",
       "            <th>hhincsrc2</th>\n",
       "            <th>hhincsrc3</th>\n",
       "            <th>hhincsrc4</th>\n",
       "            <th>hhfdyn</th>\n",
       "            <th>fdayn</th>\n",
       "            <th>fdaskp</th>\n",
       "            <th>fdcyn</th>\n",
       "            <th>fdcskp</th>\n",
       "        </tr>\n",
       "    </thead>\n",
       "    <tbody>\n",
       "        <tr>\n",
       "            <td>304234</td>\n",
       "            <td>7</td>\n",
       "            <td>2</td>\n",
       "            <td>3</td>\n",
       "            <td>None</td>\n",
       "            <td>Yes</td>\n",
       "            <td>Yes</td>\n",
       "            <td>34</td>\n",
       "            <td>5</td>\n",
       "            <td>10</td>\n",
       "            <td>17</td>\n",
       "            <td>2</td>\n",
       "            <td>10</td>\n",
       "            <td>None</td>\n",
       "            <td>2</td>\n",
       "            <td>None</td>\n",
       "            <td>4</td>\n",
       "            <td>Yes</td>\n",
       "            <td>23000</td>\n",
       "            <td>None</td>\n",
       "            <td>1</td>\n",
       "            <td>1</td>\n",
       "            <td>3</td>\n",
       "            <td>None</td>\n",
       "            <td>None</td>\n",
       "            <td>Yes</td>\n",
       "            <td>Yes</td>\n",
       "            <td>3</td>\n",
       "            <td>Yes</td>\n",
       "            <td>3</td>\n",
       "        </tr>\n",
       "        <tr>\n",
       "            <td>312472</td>\n",
       "            <td>5</td>\n",
       "            <td>3</td>\n",
       "            <td>5</td>\n",
       "            <td>None</td>\n",
       "            <td>No</td>\n",
       "            <td>Yes</td>\n",
       "            <td>23</td>\n",
       "            <td>5</td>\n",
       "            <td>7</td>\n",
       "            <td>10</td>\n",
       "            <td>1</td>\n",
       "            <td>5</td>\n",
       "            <td>None</td>\n",
       "            <td>2</td>\n",
       "            <td>None</td>\n",
       "            <td>0</td>\n",
       "            <td>Yes</td>\n",
       "            <td>None</td>\n",
       "            <td>3</td>\n",
       "            <td>7</td>\n",
       "            <td>1</td>\n",
       "            <td>3</td>\n",
       "            <td>7</td>\n",
       "            <td>None</td>\n",
       "            <td>No</td>\n",
       "            <td>No</td>\n",
       "            <td>None</td>\n",
       "            <td>No</td>\n",
       "            <td>None</td>\n",
       "        </tr>\n",
       "        <tr>\n",
       "            <td>318567</td>\n",
       "            <td>5</td>\n",
       "            <td>3</td>\n",
       "            <td>1</td>\n",
       "            <td>None</td>\n",
       "            <td>Yes</td>\n",
       "            <td>Yes</td>\n",
       "            <td>22</td>\n",
       "            <td>5</td>\n",
       "            <td>5</td>\n",
       "            <td>11</td>\n",
       "            <td>1</td>\n",
       "            <td>None</td>\n",
       "            <td>Yes</td>\n",
       "            <td>1</td>\n",
       "            <td>None</td>\n",
       "            <td>2</td>\n",
       "            <td>Yes</td>\n",
       "            <td>None</td>\n",
       "            <td>None</td>\n",
       "            <td>3</td>\n",
       "            <td>3</td>\n",
       "            <td>None</td>\n",
       "            <td>None</td>\n",
       "            <td>None</td>\n",
       "            <td>Yes</td>\n",
       "            <td>Yes</td>\n",
       "            <td>3</td>\n",
       "            <td>Yes</td>\n",
       "            <td>None</td>\n",
       "        </tr>\n",
       "        <tr>\n",
       "            <td>381310</td>\n",
       "            <td>5</td>\n",
       "            <td>3</td>\n",
       "            <td>5</td>\n",
       "            <td>2</td>\n",
       "            <td>Yes</td>\n",
       "            <td>Yes</td>\n",
       "            <td>21</td>\n",
       "            <td>3</td>\n",
       "            <td>3</td>\n",
       "            <td>14</td>\n",
       "            <td>1</td>\n",
       "            <td>8</td>\n",
       "            <td>None</td>\n",
       "            <td>1</td>\n",
       "            <td>None</td>\n",
       "            <td>1</td>\n",
       "            <td>Yes</td>\n",
       "            <td>None</td>\n",
       "            <td>4</td>\n",
       "            <td>1</td>\n",
       "            <td>1</td>\n",
       "            <td>3</td>\n",
       "            <td>None</td>\n",
       "            <td>None</td>\n",
       "            <td>Yes</td>\n",
       "            <td>No</td>\n",
       "            <td>None</td>\n",
       "            <td>No</td>\n",
       "            <td>None</td>\n",
       "        </tr>\n",
       "        <tr>\n",
       "            <td>381349</td>\n",
       "            <td>5</td>\n",
       "            <td>3</td>\n",
       "            <td>1</td>\n",
       "            <td>2</td>\n",
       "            <td>Yes</td>\n",
       "            <td>Yes</td>\n",
       "            <td>31</td>\n",
       "            <td>3</td>\n",
       "            <td>5</td>\n",
       "            <td>22</td>\n",
       "            <td>1</td>\n",
       "            <td>9</td>\n",
       "            <td>None</td>\n",
       "            <td>1</td>\n",
       "            <td>None</td>\n",
       "            <td>0</td>\n",
       "            <td>No</td>\n",
       "            <td>None</td>\n",
       "            <td>4</td>\n",
       "            <td>1</td>\n",
       "            <td>1</td>\n",
       "            <td>3</td>\n",
       "            <td>None</td>\n",
       "            <td>None</td>\n",
       "            <td>No</td>\n",
       "            <td>No</td>\n",
       "            <td>None</td>\n",
       "            <td>No</td>\n",
       "            <td>None</td>\n",
       "        </tr>\n",
       "        <tr>\n",
       "            <td>581096</td>\n",
       "            <td>5</td>\n",
       "            <td>3</td>\n",
       "            <td>1</td>\n",
       "            <td>2</td>\n",
       "            <td>Yes</td>\n",
       "            <td>Yes</td>\n",
       "            <td>21</td>\n",
       "            <td>3</td>\n",
       "            <td>8</td>\n",
       "            <td>9</td>\n",
       "            <td>1</td>\n",
       "            <td>8</td>\n",
       "            <td>None</td>\n",
       "            <td>1</td>\n",
       "            <td>None</td>\n",
       "            <td>0</td>\n",
       "            <td>No</td>\n",
       "            <td>7980</td>\n",
       "            <td>None</td>\n",
       "            <td>3</td>\n",
       "            <td>1</td>\n",
       "            <td>3</td>\n",
       "            <td>None</td>\n",
       "            <td>None</td>\n",
       "            <td>Yes</td>\n",
       "            <td>Yes</td>\n",
       "            <td>3</td>\n",
       "            <td>Yes</td>\n",
       "            <td>3</td>\n",
       "        </tr>\n",
       "        <tr>\n",
       "            <td>745922</td>\n",
       "            <td>5</td>\n",
       "            <td>3</td>\n",
       "            <td>4</td>\n",
       "            <td>None</td>\n",
       "            <td>Yes</td>\n",
       "            <td>Yes</td>\n",
       "            <td>24</td>\n",
       "            <td>3</td>\n",
       "            <td>8</td>\n",
       "            <td>11</td>\n",
       "            <td>2</td>\n",
       "            <td>None</td>\n",
       "            <td>No</td>\n",
       "            <td>2</td>\n",
       "            <td>None</td>\n",
       "            <td>0</td>\n",
       "            <td>Yes</td>\n",
       "            <td>None</td>\n",
       "            <td>4</td>\n",
       "            <td>3</td>\n",
       "            <td>3</td>\n",
       "            <td>None</td>\n",
       "            <td>None</td>\n",
       "            <td>None</td>\n",
       "            <td>No</td>\n",
       "            <td>No</td>\n",
       "            <td>None</td>\n",
       "            <td>No</td>\n",
       "            <td>None</td>\n",
       "        </tr>\n",
       "        <tr>\n",
       "            <td>750692</td>\n",
       "            <td>5</td>\n",
       "            <td>3</td>\n",
       "            <td>6</td>\n",
       "            <td>None</td>\n",
       "            <td>No</td>\n",
       "            <td>Yes</td>\n",
       "            <td>29</td>\n",
       "            <td>8</td>\n",
       "            <td>11</td>\n",
       "            <td>9</td>\n",
       "            <td>1</td>\n",
       "            <td>19</td>\n",
       "            <td>None</td>\n",
       "            <td>1</td>\n",
       "            <td>None</td>\n",
       "            <td>3</td>\n",
       "            <td>Yes</td>\n",
       "            <td>3000</td>\n",
       "            <td>None</td>\n",
       "            <td>3</td>\n",
       "            <td>3</td>\n",
       "            <td>None</td>\n",
       "            <td>None</td>\n",
       "            <td>None</td>\n",
       "            <td>No</td>\n",
       "            <td>No</td>\n",
       "            <td>None</td>\n",
       "            <td>No</td>\n",
       "            <td>None</td>\n",
       "        </tr>\n",
       "        <tr>\n",
       "            <td>769086</td>\n",
       "            <td>3</td>\n",
       "            <td>3</td>\n",
       "            <td>2</td>\n",
       "            <td>None</td>\n",
       "            <td>Yes</td>\n",
       "            <td>Yes</td>\n",
       "            <td>22</td>\n",
       "            <td>7</td>\n",
       "            <td>7</td>\n",
       "            <td>7</td>\n",
       "            <td>1</td>\n",
       "            <td>8</td>\n",
       "            <td>None</td>\n",
       "            <td>1</td>\n",
       "            <td>None</td>\n",
       "            <td>0</td>\n",
       "            <td>No</td>\n",
       "            <td>2300</td>\n",
       "            <td>None</td>\n",
       "            <td>3</td>\n",
       "            <td>3</td>\n",
       "            <td>None</td>\n",
       "            <td>None</td>\n",
       "            <td>None</td>\n",
       "            <td>Yes</td>\n",
       "            <td>No</td>\n",
       "            <td>None</td>\n",
       "            <td>No</td>\n",
       "            <td>None</td>\n",
       "        </tr>\n",
       "        <tr>\n",
       "            <td>770712</td>\n",
       "            <td>5</td>\n",
       "            <td>3</td>\n",
       "            <td>5</td>\n",
       "            <td>2</td>\n",
       "            <td>Yes</td>\n",
       "            <td>Yes</td>\n",
       "            <td>24</td>\n",
       "            <td>5</td>\n",
       "            <td>6</td>\n",
       "            <td>11</td>\n",
       "            <td>2</td>\n",
       "            <td>7</td>\n",
       "            <td>None</td>\n",
       "            <td>2</td>\n",
       "            <td>None</td>\n",
       "            <td>0</td>\n",
       "            <td>Yes</td>\n",
       "            <td>None</td>\n",
       "            <td>4</td>\n",
       "            <td>7</td>\n",
       "            <td>3</td>\n",
       "            <td>7</td>\n",
       "            <td>None</td>\n",
       "            <td>None</td>\n",
       "            <td>Yes</td>\n",
       "            <td>Yes</td>\n",
       "            <td>3</td>\n",
       "            <td>Yes</td>\n",
       "            <td>3</td>\n",
       "        </tr>\n",
       "    </tbody>\n",
       "</table>"
      ],
      "text/plain": [
       "[(304234, 7, 2, 3, None, 'Yes', 'Yes', 34, 5, 10, 17, 2, 10, None, 2, None, 4, 'Yes', 23000, None, 1, 1, 3, None, None, 'Yes', 'Yes', 3, 'Yes', 3),\n",
       " (312472, 5, 3, 5, None, 'No', 'Yes', 23, 5, 7, 10, 1, 5, None, 2, None, 0, 'Yes', None, 3, 7, 1, 3, 7, None, 'No', 'No', None, 'No', None),\n",
       " (318567, 5, 3, 1, None, 'Yes', 'Yes', 22, 5, 5, 11, 1, None, 'Yes', 1, None, 2, 'Yes', None, None, 3, 3, None, None, None, 'Yes', 'Yes', 3, 'Yes', None),\n",
       " (381310, 5, 3, 5, 2, 'Yes', 'Yes', 21, 3, 3, 14, 1, 8, None, 1, None, 1, 'Yes', None, 4, 1, 1, 3, None, None, 'Yes', 'No', None, 'No', None),\n",
       " (381349, 5, 3, 1, 2, 'Yes', 'Yes', 31, 3, 5, 22, 1, 9, None, 1, None, 0, 'No', None, 4, 1, 1, 3, None, None, 'No', 'No', None, 'No', None),\n",
       " (581096, 5, 3, 1, 2, 'Yes', 'Yes', 21, 3, 8, 9, 1, 8, None, 1, None, 0, 'No', 7980, None, 3, 1, 3, None, None, 'Yes', 'Yes', 3, 'Yes', 3),\n",
       " (745922, 5, 3, 4, None, 'Yes', 'Yes', 24, 3, 8, 11, 2, None, 'No', 2, None, 0, 'Yes', None, 4, 3, 3, None, None, None, 'No', 'No', None, 'No', None),\n",
       " (750692, 5, 3, 6, None, 'No', 'Yes', 29, 8, 11, 9, 1, 19, None, 1, None, 3, 'Yes', 3000, None, 3, 3, None, None, None, 'No', 'No', None, 'No', None),\n",
       " (769086, 3, 3, 2, None, 'Yes', 'Yes', 22, 7, 7, 7, 1, 8, None, 1, None, 0, 'No', 2300, None, 3, 3, None, None, None, 'Yes', 'No', None, 'No', None),\n",
       " (770712, 5, 3, 5, 2, 'Yes', 'Yes', 24, 5, 6, 11, 2, 7, None, 2, None, 0, 'Yes', None, 4, 7, 3, 7, None, None, 'Yes', 'Yes', 3, 'Yes', 3)]"
      ]
     },
     "execution_count": 13,
     "metadata": {},
     "output_type": "execute_result"
    }
   ],
   "source": [
    "%%sql\n",
    "Select *\n",
    "FROM Household_2021\n",
    "WHERE nopres > 20;"
   ]
  },
  {
   "cell_type": "markdown",
   "id": "70860f02",
   "metadata": {},
   "source": [
    "- Calculate the average number of days worked (`emdays`) by individuals who have reported any income (`eminc`). Ensure that query only includes individuals with non-null and income values greater than 0 from the `Employment_2021` table.\n",
    "\n"
   ]
  },
  {
   "cell_type": "code",
   "execution_count": 15,
   "id": "4580d670",
   "metadata": {},
   "outputs": [
    {
     "name": "stdout",
     "output_type": "stream",
     "text": [
      " * sqlite:///NiDS_CRAM_2021.db\n",
      "Done.\n"
     ]
    },
    {
     "data": {
      "text/html": [
       "<table>\n",
       "    <thead>\n",
       "        <tr>\n",
       "            <th>AVG(emdays)</th>\n",
       "        </tr>\n",
       "    </thead>\n",
       "    <tbody>\n",
       "        <tr>\n",
       "            <td>4.522093813732155</td>\n",
       "        </tr>\n",
       "    </tbody>\n",
       "</table>"
      ],
      "text/plain": [
       "[(4.522093813732155,)]"
      ]
     },
     "execution_count": 15,
     "metadata": {},
     "output_type": "execute_result"
    }
   ],
   "source": [
    "%%sql\n",
    "SELECT AVG(emdays)\n",
    "FROM Employment_2021\n",
    "WHERE eminc >0 AND emdays IS NOT NULL;"
   ]
  },
  {
   "cell_type": "markdown",
   "id": "f532f64d",
   "metadata": {},
   "source": [
    "- Count the number of households where **every member** is at or above retirement age (i.e., the number of people in the household is equal to the number of people aged 60 or older).\n"
   ]
  },
  {
   "cell_type": "code",
   "execution_count": null,
   "id": "78ef7713",
   "metadata": {},
   "outputs": [
    {
     "name": "stdout",
     "output_type": "stream",
     "text": [
      " * sqlite:///NiDS_CRAM_2021.db\n",
      "Done.\n"
     ]
    },
    {
     "data": {
      "text/html": [
       "<table>\n",
       "    <thead>\n",
       "        <tr>\n",
       "            <th>Retirement_Only_Households</th>\n",
       "        </tr>\n",
       "    </thead>\n",
       "    <tbody>\n",
       "        <tr>\n",
       "            <td>147</td>\n",
       "        </tr>\n",
       "    </tbody>\n",
       "</table>"
      ],
      "text/plain": [
       "[(147,)]"
      ]
     },
     "execution_count": 36,
     "metadata": {},
     "output_type": "execute_result"
    }
   ],
   "source": [
    "%%sql\n",
    "SELECT COUNT(*) AS Retirement_Only_Households\n",
    "FROM Household_2021\n",
    "WHERE nopres IS NOT NULL  \n",
    "  AND no60res IS NOT NULL \n",
    "  AND nopres = no60res;   "
   ]
  },
  {
   "attachments": {},
   "cell_type": "markdown",
   "id": "111c1712",
   "metadata": {},
   "source": [
    "- Display the `pid`, the total number of children in the household, and the number of child grants.\n",
    "\n",
    "- Filter the results to only show the rows for the following `pid` values: `311305`, `787796`, `323054`, and `491746`.\n"
   ]
  },
  {
   "cell_type": "code",
   "execution_count": 24,
   "id": "31836dc0",
   "metadata": {},
   "outputs": [
    {
     "name": "stdout",
     "output_type": "stream",
     "text": [
      " * sqlite:///NiDS_CRAM_2021.db\n",
      "Done.\n"
     ]
    },
    {
     "data": {
      "text/html": [
       "<table>\n",
       "    <thead>\n",
       "        <tr>\n",
       "            <th>pid</th>\n",
       "            <th>total_children</th>\n",
       "            <th>number_of_child_grants</th>\n",
       "        </tr>\n",
       "    </thead>\n",
       "    <tbody>\n",
       "        <tr>\n",
       "            <td>311305</td>\n",
       "            <td>1</td>\n",
       "            <td>0</td>\n",
       "        </tr>\n",
       "        <tr>\n",
       "            <td>323054</td>\n",
       "            <td>1</td>\n",
       "            <td>1</td>\n",
       "        </tr>\n",
       "        <tr>\n",
       "            <td>491746</td>\n",
       "            <td>1</td>\n",
       "            <td>0</td>\n",
       "        </tr>\n",
       "        <tr>\n",
       "            <td>787796</td>\n",
       "            <td>1</td>\n",
       "            <td>2</td>\n",
       "        </tr>\n",
       "    </tbody>\n",
       "</table>"
      ],
      "text/plain": [
       "[(311305, 1, 0), (323054, 1, 1), (491746, 1, 0), (787796, 1, 2)]"
      ]
     },
     "execution_count": 24,
     "metadata": {},
     "output_type": "execute_result"
    }
   ],
   "source": [
    "%%sql\n",
    "\n",
    "SELECT \n",
    "    pid, \n",
    "    COUNT(CASE WHEN no7to17res < 18 THEN 1 END) AS total_children,\n",
    "    MAX(hhincchld) AS number_of_child_grants\n",
    "FROM Household_2021\n",
    "WHERE pid IN (311305, 787796, 323054, 491746)\n",
    "GROUP BY pid;\n"
   ]
  },
  {
   "cell_type": "markdown",
   "id": "a40d27e0",
   "metadata": {},
   "source": [
    "-  Query that divides the total household income (`hhinc`) by the number of residents in the household (`nopres`) to calculate the income per person. Then, based on the income per person, categorise each household into the poverty lines mentioned above.\n",
    "\n",
    "- Filter out any rows with missing or null values in the columns and handle any division by zero. \n",
    "\n",
    "- Display the percentage of households that fall into each poverty category.\n",
    "\n",
    "\n"
   ]
  },
  {
   "cell_type": "code",
   "execution_count": 26,
   "id": "3580f521",
   "metadata": {},
   "outputs": [
    {
     "name": "stdout",
     "output_type": "stream",
     "text": [
      " * sqlite:///NiDS_CRAM_2021.db\n",
      "Done.\n"
     ]
    },
    {
     "data": {
      "text/html": [
       "<table>\n",
       "    <thead>\n",
       "        <tr>\n",
       "            <th>poverty_line</th>\n",
       "            <th>percentage</th>\n",
       "        </tr>\n",
       "    </thead>\n",
       "    <tbody>\n",
       "        <tr>\n",
       "            <td>FPL</td>\n",
       "            <td>50.73</td>\n",
       "        </tr>\n",
       "        <tr>\n",
       "            <td>LBPL</td>\n",
       "            <td>11.44</td>\n",
       "        </tr>\n",
       "        <tr>\n",
       "            <td>None</td>\n",
       "            <td>30.64</td>\n",
       "        </tr>\n",
       "        <tr>\n",
       "            <td>UBPL</td>\n",
       "            <td>7.18</td>\n",
       "        </tr>\n",
       "    </tbody>\n",
       "</table>"
      ],
      "text/plain": [
       "[('FPL', 50.73), ('LBPL', 11.44), ('None', 30.64), ('UBPL', 7.18)]"
      ]
     },
     "execution_count": 26,
     "metadata": {},
     "output_type": "execute_result"
    }
   ],
   "source": [
    "%%sql\n",
    "\n",
    "WITH income_per_person AS (\n",
    "    SELECT \n",
    "        hhinc, \n",
    "        nopres,\n",
    "        hhinc / NULLIF(nopres, 0) AS income_per_person\n",
    "    FROM Household_2021\n",
    "    WHERE hhinc IS NOT NULL AND nopres IS NOT NULL\n",
    "),\n",
    "poverty_categories AS (\n",
    "    SELECT \n",
    "        CASE \n",
    "            WHEN income_per_person < 624 THEN 'FPL'\n",
    "            WHEN income_per_person >= 624 AND income_per_person < 890 THEN 'LBPL'\n",
    "            WHEN income_per_person >= 890 AND income_per_person < 1135 THEN 'UBPL'\n",
    "            ELSE 'None'\n",
    "        END AS poverty_line\n",
    "    FROM income_per_person\n",
    ")\n",
    "SELECT \n",
    "    poverty_line, \n",
    "    ROUND(COUNT(*) * 100.0 / (SELECT COUNT(*) FROM poverty_categories), 2) AS percentage\n",
    "FROM poverty_categories\n",
    "GROUP BY poverty_line;\n"
   ]
  },
  {
   "attachments": {},
   "cell_type": "markdown",
   "id": "4582bc45",
   "metadata": {},
   "source": [
    "- Calculate the active labour force participation rate as a percentage of the total potential labour force in the Employment_2021 table. Ensure to exclude any rows with NULL values in both the relevant columns.\n",
    "\n"
   ]
  },
  {
   "cell_type": "code",
   "execution_count": 38,
   "id": "042d5db3",
   "metadata": {},
   "outputs": [
    {
     "name": "stdout",
     "output_type": "stream",
     "text": [
      " * sqlite:///NiDS_CRAM_2021.db\n",
      "Done.\n"
     ]
    },
    {
     "data": {
      "text/html": [
       "<table>\n",
       "    <thead>\n",
       "        <tr>\n",
       "            <th>active_labour_force_participation_rate</th>\n",
       "        </tr>\n",
       "    </thead>\n",
       "    <tbody>\n",
       "        <tr>\n",
       "            <td>56.82501503307276</td>\n",
       "        </tr>\n",
       "    </tbody>\n",
       "</table>"
      ],
      "text/plain": [
       "[(56.82501503307276,)]"
      ]
     },
     "execution_count": 38,
     "metadata": {},
     "output_type": "execute_result"
    }
   ],
   "source": [
    "%%sql\n",
    "WITH LabourForce AS (\n",
    "    SELECT \n",
    "        em,\n",
    "        unems\n",
    "    FROM \n",
    "        Employment_2021\n",
    "    WHERE \n",
    "        em IS NOT NULL AND \n",
    "        unems IS NOT NULL\n",
    ")\n",
    "\n",
    "SELECT \n",
    "    COUNT(CASE WHEN em = 1 OR unems = 'Yes' THEN 1 END) * 100.0 / \n",
    "    COUNT(*) AS active_labour_force_participation_rate\n",
    "FROM \n",
    "    LabourForce\n",
    "WHERE \n",
    "    em != 3;  -- Exclude retired individuals\n"
   ]
  },
  {
   "attachments": {},
   "cell_type": "markdown",
   "id": "b834d602",
   "metadata": {},
   "source": [
    "\n",
    "* Calculate the total income for males (`gen = 'Male'`) who reported any positive income (`eminc > 0`) and compute the average income by dividing this total by the number of males with positive income.\n",
    "* Repeat the same calculation for females (`gen = 'Female'`).\n",
    "* Return the average income for both males and females.\n",
    "- Exclude rows with NULL values in either column and only include those who are actually earning (`eminc > 0`).\n",
    "\n"
   ]
  },
  {
   "cell_type": "code",
   "execution_count": 41,
   "id": "ac872dc6",
   "metadata": {},
   "outputs": [
    {
     "name": "stdout",
     "output_type": "stream",
     "text": [
      " * sqlite:///NiDS_CRAM_2021.db\n",
      "Done.\n"
     ]
    },
    {
     "data": {
      "text/html": [
       "<table>\n",
       "    <thead>\n",
       "        <tr>\n",
       "            <th>gender</th>\n",
       "            <th>total_income</th>\n",
       "            <th>number_of_earners</th>\n",
       "            <th>average_income</th>\n",
       "        </tr>\n",
       "    </thead>\n",
       "    <tbody>\n",
       "        <tr>\n",
       "            <td>Female</td>\n",
       "            <td>4341132</td>\n",
       "            <td>841</td>\n",
       "            <td>5161.86920332937</td>\n",
       "        </tr>\n",
       "        <tr>\n",
       "            <td>Male</td>\n",
       "            <td>5697955</td>\n",
       "            <td>635</td>\n",
       "            <td>8973.157480314962</td>\n",
       "        </tr>\n",
       "    </tbody>\n",
       "</table>"
      ],
      "text/plain": [
       "[('Female', 4341132, 841, 5161.86920332937),\n",
       " ('Male', 5697955, 635, 8973.157480314962)]"
      ]
     },
     "execution_count": 41,
     "metadata": {},
     "output_type": "execute_result"
    }
   ],
   "source": [
    "%%sql\n",
    "SELECT \n",
    "    p.gen AS gender,\n",
    "    SUM(e.eminc) AS total_income,\n",
    "    COUNT(*) AS number_of_earners,\n",
    "    AVG(e.eminc) AS average_income\n",
    "FROM \n",
    "    Employment_2021 e\n",
    "JOIN \n",
    "    Personal_2021 p ON e.pid = p.pid\n",
    "WHERE \n",
    "    p.gen IN ('Male', 'Female') AND\n",
    "    e.eminc IS NOT NULL AND\n",
    "    e.eminc > 0\n",
    "GROUP BY \n",
    "    p.gen;"
   ]
  },
  {
   "attachments": {},
   "cell_type": "markdown",
   "id": "99068ce6",
   "metadata": {},
   "source": [
    "- Calculate the average household size and the corresponding average income per person (`hhinc / nopres`).\n",
    "\n",
    "- Filter out any households with a missing or zero values in `nopres` or `hhinc`.\n",
    "\n",
    "Determine the average income per person for:\n",
    "* Households with more than 8 residents\n",
    "* Households with 8 or fewer residents\n"
   ]
  },
  {
   "cell_type": "code",
   "execution_count": 44,
   "id": "3be9f42d",
   "metadata": {},
   "outputs": [
    {
     "name": "stdout",
     "output_type": "stream",
     "text": [
      " * sqlite:///NiDS_CRAM_2021.db\n",
      "Done.\n"
     ]
    },
    {
     "data": {
      "text/html": [
       "<table>\n",
       "    <thead>\n",
       "        <tr>\n",
       "            <th>household_size_category</th>\n",
       "            <th>average_income_per_person</th>\n",
       "        </tr>\n",
       "    </thead>\n",
       "    <tbody>\n",
       "        <tr>\n",
       "            <td>8 or fewer residents</td>\n",
       "            <td>2049.0232206012383</td>\n",
       "        </tr>\n",
       "        <tr>\n",
       "            <td>More than 8 residents</td>\n",
       "            <td>374.0368837627816</td>\n",
       "        </tr>\n",
       "    </tbody>\n",
       "</table>"
      ],
      "text/plain": [
       "[('8 or fewer residents', 2049.0232206012383),\n",
       " ('More than 8 residents', 374.0368837627816)]"
      ]
     },
     "execution_count": 44,
     "metadata": {},
     "output_type": "execute_result"
    }
   ],
   "source": [
    "%%sql\n",
    "SELECT \n",
    "    CASE \n",
    "        WHEN nopres > 8 THEN 'More than 8 residents'\n",
    "        ELSE '8 or fewer residents'\n",
    "    END AS household_size_category,\n",
    "    AVG(hhinc * 1.0 / nopres) AS average_income_per_person\n",
    "FROM \n",
    "    Household_2021\n",
    "WHERE \n",
    "    nopres IS NOT NULL AND \n",
    "    nopres > 0 AND  -- Exclude households with zero residents\n",
    "    hhinc IS NOT NULL AND \n",
    "    hhinc > 0  -- Exclude households with zero income\n",
    "GROUP BY \n",
    "    household_size_category;"
   ]
  },
  {
   "attachments": {},
   "cell_type": "markdown",
   "id": "a9ae36ba",
   "metadata": {},
   "source": [
    "- Calculate the average household size (`nopres`) for households that received at least one COVID-19 grant (`hhinccv > 0`).\n",
    "\n"
   ]
  },
  {
   "cell_type": "code",
   "execution_count": 47,
   "id": "ef99a30d",
   "metadata": {},
   "outputs": [
    {
     "name": "stdout",
     "output_type": "stream",
     "text": [
      " * sqlite:///NiDS_CRAM_2021.db\n",
      "Done.\n"
     ]
    },
    {
     "data": {
      "text/html": [
       "<table>\n",
       "    <thead>\n",
       "        <tr>\n",
       "            <th>average_household_size</th>\n",
       "        </tr>\n",
       "    </thead>\n",
       "    <tbody>\n",
       "        <tr>\n",
       "            <td>6.370698644421272</td>\n",
       "        </tr>\n",
       "    </tbody>\n",
       "</table>"
      ],
      "text/plain": [
       "[(6.370698644421272,)]"
      ]
     },
     "execution_count": 47,
     "metadata": {},
     "output_type": "execute_result"
    }
   ],
   "source": [
    "%%sql\n",
    "SELECT \n",
    "    AVG(nopres) AS average_household_size  -- Calculate the average household size\n",
    "FROM \n",
    "    Household_2021\n",
    "WHERE \n",
    "    hhinccv > 0;  -- Filter for households that received at least one grant"
   ]
  },
  {
   "cell_type": "markdown",
   "id": "0181043a",
   "metadata": {},
   "source": [
    "- Calculate the total number of households that experienced this issue.\n"
   ]
  },
  {
   "cell_type": "code",
   "execution_count": 48,
   "id": "476c736d",
   "metadata": {},
   "outputs": [
    {
     "name": "stdout",
     "output_type": "stream",
     "text": [
      " * sqlite:///NiDS_CRAM_2021.db\n",
      "Done.\n"
     ]
    },
    {
     "data": {
      "text/html": [
       "<table>\n",
       "    <thead>\n",
       "        <tr>\n",
       "            <th>total_households_out_of_money</th>\n",
       "        </tr>\n",
       "    </thead>\n",
       "    <tbody>\n",
       "        <tr>\n",
       "            <td>2312</td>\n",
       "        </tr>\n",
       "    </tbody>\n",
       "</table>"
      ],
      "text/plain": [
       "[(2312,)]"
      ]
     },
     "execution_count": 48,
     "metadata": {},
     "output_type": "execute_result"
    }
   ],
   "source": [
    "%%sql\n",
    "SELECT \n",
    "    COUNT(*) AS total_households_out_of_money\n",
    "FROM \n",
    "    Household_2021\n",
    "WHERE \n",
    "    hhfdyn = 'Yes';  -- Count households that ran out of money to buy food\n"
   ]
  },
  {
   "attachments": {},
   "cell_type": "markdown",
   "id": "0cf0289c",
   "metadata": {},
   "source": [
    "- Calculate the percentage of males (`gen = 'Male'`) and females (`gen = 'Female'`) who had a job in March (em = 1).\n"
   ]
  },
  {
   "cell_type": "code",
   "execution_count": 49,
   "id": "6751b7f1",
   "metadata": {},
   "outputs": [
    {
     "name": "stdout",
     "output_type": "stream",
     "text": [
      " * sqlite:///NiDS_CRAM_2021.db\n",
      "Done.\n"
     ]
    },
    {
     "data": {
      "text/html": [
       "<table>\n",
       "    <thead>\n",
       "        <tr>\n",
       "            <th>gen</th>\n",
       "            <th>total_individuals</th>\n",
       "            <th>employed_individuals</th>\n",
       "            <th>employment_percentage</th>\n",
       "        </tr>\n",
       "    </thead>\n",
       "    <tbody>\n",
       "        <tr>\n",
       "            <td>Female</td>\n",
       "            <td>3614</td>\n",
       "            <td>1089</td>\n",
       "            <td>30.132816823464307</td>\n",
       "        </tr>\n",
       "        <tr>\n",
       "            <td>Male</td>\n",
       "            <td>2248</td>\n",
       "            <td>985</td>\n",
       "            <td>43.81672597864769</td>\n",
       "        </tr>\n",
       "    </tbody>\n",
       "</table>"
      ],
      "text/plain": [
       "[('Female', 3614, 1089, 30.132816823464307),\n",
       " ('Male', 2248, 985, 43.81672597864769)]"
      ]
     },
     "execution_count": 49,
     "metadata": {},
     "output_type": "execute_result"
    }
   ],
   "source": [
    "%%sql\n",
    "WITH EmploymentCounts AS (\n",
    "    SELECT \n",
    "        p.gen, \n",
    "        COUNT(*) AS total_individuals,\n",
    "        SUM(CASE WHEN e.em = 1 THEN 1 ELSE 0 END) AS employed_individuals\n",
    "    FROM \n",
    "        Personal_2021 p  -- Table containing the gender information\n",
    "    JOIN \n",
    "        Employment_2021 e ON p.pid = e.pid  -- Assuming 'pid' is the common identifier\n",
    "    WHERE \n",
    "        p.gen IN ('Male', 'Female')  -- Filter for only Male and Female\n",
    "    GROUP BY \n",
    "        p.gen\n",
    ")\n",
    "\n",
    "SELECT \n",
    "    gen,\n",
    "    total_individuals,\n",
    "    employed_individuals,\n",
    "    (employed_individuals * 100.0 / total_individuals) AS employment_percentage\n",
    "FROM \n",
    "    EmploymentCounts;"
   ]
  },
  {
   "cell_type": "markdown",
   "id": "eb57e17c",
   "metadata": {},
   "source": [
    "- Calculate the average household income (`hhinc`) for households with access to electricity (`enrgelec = 'Yes'`) versus those without electricity (`enrgelec = 'No'`). \n",
    "\n"
   ]
  },
  {
   "cell_type": "code",
   "execution_count": 50,
   "id": "e4994ddf",
   "metadata": {},
   "outputs": [
    {
     "name": "stdout",
     "output_type": "stream",
     "text": [
      " * sqlite:///NiDS_CRAM_2021.db\n",
      "Done.\n"
     ]
    },
    {
     "data": {
      "text/html": [
       "<table>\n",
       "    <thead>\n",
       "        <tr>\n",
       "            <th>avg_income_with_electricity</th>\n",
       "            <th>avg_income_without_electricity</th>\n",
       "            <th>income_difference</th>\n",
       "        </tr>\n",
       "    </thead>\n",
       "    <tbody>\n",
       "        <tr>\n",
       "            <td>5799.6265807091495</td>\n",
       "            <td>3091.9298245614036</td>\n",
       "            <td>2708.0</td>\n",
       "        </tr>\n",
       "    </tbody>\n",
       "</table>"
      ],
      "text/plain": [
       "[(5799.6265807091495, 3091.9298245614036, 2708.0)]"
      ]
     },
     "execution_count": 50,
     "metadata": {},
     "output_type": "execute_result"
    }
   ],
   "source": [
    "%%sql\n",
    "WITH IncomeAnalysis AS (\n",
    "    SELECT \n",
    "        enrgelec,\n",
    "        AVG(hhinc) AS average_income\n",
    "    FROM \n",
    "        Household_2021  -- Ensure you use the correct table name\n",
    "    WHERE \n",
    "        enrgelec IN ('Yes', 'No') AND  -- Filter for households with and without electricity\n",
    "        hhinc IS NOT NULL  -- Exclude rows with NULL household income\n",
    "    GROUP BY \n",
    "        enrgelec\n",
    ")\n",
    "\n",
    "SELECT \n",
    "    MAX(CASE WHEN enrgelec = 'Yes' THEN average_income END) AS avg_income_with_electricity,\n",
    "    MAX(CASE WHEN enrgelec = 'No' THEN average_income END) AS avg_income_without_electricity,\n",
    "    ROUND(\n",
    "        MAX(CASE WHEN enrgelec = 'Yes' THEN average_income END) - \n",
    "        MAX(CASE WHEN enrgelec = 'No' THEN average_income END)\n",
    "    ) AS income_difference\n",
    "FROM \n",
    "    IncomeAnalysis;"
   ]
  },
  {
   "cell_type": "markdown",
   "id": "f075ec25",
   "metadata": {},
   "source": [
    "- Calculate the percentage of households living in informal houses that have access to piped or tap water.\n"
   ]
  },
  {
   "cell_type": "code",
   "execution_count": 51,
   "id": "4e0aa175",
   "metadata": {},
   "outputs": [
    {
     "name": "stdout",
     "output_type": "stream",
     "text": [
      " * sqlite:///NiDS_CRAM_2021.db\n",
      "Done.\n"
     ]
    },
    {
     "data": {
      "text/html": [
       "<table>\n",
       "    <thead>\n",
       "        <tr>\n",
       "            <th>total_informal_houses</th>\n",
       "            <th>households_with_water</th>\n",
       "            <th>percentage_with_water</th>\n",
       "        </tr>\n",
       "    </thead>\n",
       "    <tbody>\n",
       "        <tr>\n",
       "            <td>524</td>\n",
       "            <td>346</td>\n",
       "            <td>66.03053435114504</td>\n",
       "        </tr>\n",
       "    </tbody>\n",
       "</table>"
      ],
      "text/plain": [
       "[(524, 346, 66.03053435114504)]"
      ]
     },
     "execution_count": 51,
     "metadata": {},
     "output_type": "execute_result"
    }
   ],
   "source": [
    "%%sql\n",
    "SELECT \n",
    "    COUNT(*) AS total_informal_houses,  -- Total number of informal houses\n",
    "    SUM(CASE WHEN watsrc = 'Yes' THEN 1 ELSE 0 END) AS households_with_water,  -- Count of informal houses with water access\n",
    "    (SUM(CASE WHEN watsrc = 'Yes' THEN 1 ELSE 0 END) * 100.0 / COUNT(*)) AS percentage_with_water  -- Percentage calculation\n",
    "FROM \n",
    "    Household_2021\n",
    "WHERE \n",
    "    dwltyp = 3  -- Focus on informal houses\n",
    "    AND watsrc IS NOT NULL;  -- Exclude NULL values for water source"
   ]
  }
 ],
 "metadata": {
  "kernelspec": {
   "display_name": "Python 3 (ipykernel)",
   "language": "python",
   "name": "python3"
  },
  "language_info": {
   "codemirror_mode": {
    "name": "ipython",
    "version": 3
   },
   "file_extension": ".py",
   "mimetype": "text/x-python",
   "name": "python",
   "nbconvert_exporter": "python",
   "pygments_lexer": "ipython3",
   "version": "3.11.8"
  }
 },
 "nbformat": 4,
 "nbformat_minor": 5
}
